{
 "cells": [
  {
   "cell_type": "code",
   "execution_count": 1,
   "id": "c25fd861-89aa-4b20-9ad3-67cb742607aa",
   "metadata": {},
   "outputs": [
    {
     "name": "stdout",
     "output_type": "stream",
     "text": [
      "Forward Selection Results:\n",
      "Selected features for LogisticRegression (forward): Index(['al', 'hrmo', 'sg_c', 'dm_yes'], dtype='object')\n",
      "Model Accuracy (forward): 95.00%\n",
      "Selected features for LogisticRegression (backward): Index(['su', 'hrmo', 'sg_c', 'sg_d'], dtype='object')\n",
      "Model Accuracy (backward): 99.00%\n",
      "Selected features for SVC (forward): Index(['al', 'hrmo', 'rc', 'sg_d'], dtype='object')\n",
      "Model Accuracy (forward): 97.00%\n",
      "Selected features for SVC (backward): Index(['sc', 'hrmo', 'sg_c', 'dm_yes'], dtype='object')\n",
      "Model Accuracy (backward): 98.00%\n",
      "Selected features for DecisionTreeClassifier (forward): Index(['su', 'rc', 'sg_c', 'dm_yes'], dtype='object')\n",
      "Model Accuracy (forward): 95.00%\n",
      "Selected features for DecisionTreeClassifier (backward): Index(['al', 'sc', 'sg_c', 'sg_d'], dtype='object')\n",
      "Model Accuracy (backward): 99.00%\n",
      "Selected features for RandomForestClassifier (forward): Index(['al', 'rc', 'sg_b', 'dm_yes'], dtype='object')\n",
      "Model Accuracy (forward): 95.00%\n",
      "Selected features for RandomForestClassifier (backward): Index(['hrmo', 'sg_c', 'sg_d', 'appet_yes'], dtype='object')\n",
      "Model Accuracy (backward): 99.00%\n"
     ]
    },
    {
     "data": {
      "text/plain": [
       "0.99"
      ]
     },
     "execution_count": 1,
     "metadata": {},
     "output_type": "execute_result"
    }
   ],
   "source": [
    "import pandas as pd\n",
    "from sklearn.model_selection import train_test_split\n",
    "from sklearn.preprocessing import StandardScaler\n",
    "from sklearn.linear_model import LogisticRegression\n",
    "from sklearn.svm import SVC\n",
    "from sklearn.tree import DecisionTreeClassifier\n",
    "from sklearn.ensemble import RandomForestClassifier\n",
    "from sklearn.feature_selection import SequentialFeatureSelector\n",
    "from sklearn.metrics import accuracy_score\n",
    "\n",
    "# Load dataset\n",
    "dataset1 = pd.read_csv(\"prep.csv\", index_col=None)\n",
    "df2 = dataset1\n",
    "df2 = pd.get_dummies(df2, drop_first=True)\n",
    "\n",
    "# Define the independent and dependent variables\n",
    "indep_X = df2.drop('classification_yes', axis=1)\n",
    "dep_Y = df2['classification_yes']\n",
    "\n",
    "# Split data\n",
    "X_train, X_test, y_train, y_test = train_test_split(indep_X, dep_Y, test_size=0.25, random_state=0)\n",
    "\n",
    "# Standardize the data\n",
    "scaler = StandardScaler()\n",
    "X_train = scaler.fit_transform(X_train)\n",
    "X_test = scaler.transform(X_test)\n",
    "\n",
    "# Function to perform feature selection and model evaluation\n",
    "def evaluate_model_with_selection(model, X_train, y_train, X_test, y_test, direction='forward', n_features=4):\n",
    "    sfs = SequentialFeatureSelector(model, n_features_to_select=n_features, direction=direction, scoring='accuracy', cv=5)\n",
    "    sfs = sfs.fit(X_train, y_train)\n",
    "    \n",
    "    # Get selected features\n",
    "    selected_features = sfs.get_support()\n",
    "    print(f\"Selected features for {model.__class__.__name__} ({direction}): {indep_X.columns[selected_features]}\")\n",
    "    \n",
    "    # Select the features and fit the model\n",
    "    X_train_selected = X_train[:, selected_features]\n",
    "    X_test_selected = X_test[:, selected_features]\n",
    "    \n",
    "    # Fit the model and make predictions\n",
    "    model.fit(X_train_selected, y_train)\n",
    "    y_pred = model.predict(X_test_selected)\n",
    "    \n",
    "    accuracy = accuracy_score(y_test, y_pred)\n",
    "    print(f\"Model Accuracy ({direction}): {accuracy * 100:.2f}%\")\n",
    "    return accuracy\n",
    "\n",
    "# Models for feature selection\n",
    "log_model = LogisticRegression(solver='lbfgs', random_state=0)\n",
    "svc_model = SVC(kernel='linear', random_state=0)\n",
    "dt_model = DecisionTreeClassifier(random_state=0)\n",
    "rf_model = RandomForestClassifier(random_state=0)\n",
    "\n",
    "# Perform Forward and Backward feature selection for each model\n",
    "print(\"Forward & Backward Selection Results:\")\n",
    "\n",
    "# Logistic Regression - Forward and Backward Selection\n",
    "evaluate_model_with_selection(log_model, X_train, y_train, X_test, y_test, direction='forward', n_features=4)\n",
    "evaluate_model_with_selection(log_model, X_train, y_train, X_test, y_test, direction='backward', n_features=4)\n",
    "\n",
    "# SVM Linear - Forward and Backward Selection\n",
    "evaluate_model_with_selection(svc_model, X_train, y_train, X_test, y_test, direction='forward', n_features=4)\n",
    "evaluate_model_with_selection(svc_model, X_train, y_train, X_test, y_test, direction='backward', n_features=4)\n",
    "\n",
    "# Decision Tree - Forward and Backward Selection\n",
    "evaluate_model_with_selection(dt_model, X_train, y_train, X_test, y_test, direction='forward', n_features=4)\n",
    "evaluate_model_with_selection(dt_model, X_train, y_train, X_test, y_test, direction='backward', n_features=4)\n",
    "\n",
    "# Random Forest - Forward and Backward Selection\n",
    "evaluate_model_with_selection(rf_model, X_train, y_train, X_test, y_test, direction='forward', n_features=4)\n",
    "evaluate_model_with_selection(rf_model, X_train, y_train, X_test, y_test, direction='backward', n_features=4)\n"
   ]
  }
 ],
 "metadata": {
  "kernelspec": {
   "display_name": "Python 3 (ipykernel)",
   "language": "python",
   "name": "python3"
  },
  "language_info": {
   "codemirror_mode": {
    "name": "ipython",
    "version": 3
   },
   "file_extension": ".py",
   "mimetype": "text/x-python",
   "name": "python",
   "nbconvert_exporter": "python",
   "pygments_lexer": "ipython3",
   "version": "3.10.14"
  }
 },
 "nbformat": 4,
 "nbformat_minor": 5
}
