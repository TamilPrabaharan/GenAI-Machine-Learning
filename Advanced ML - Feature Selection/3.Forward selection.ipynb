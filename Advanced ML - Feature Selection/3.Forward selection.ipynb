{
 "cells": [
  {
   "cell_type": "code",
   "execution_count": 1,
   "id": "c25fd861-89aa-4b20-9ad3-67cb742607aa",
   "metadata": {},
   "outputs": [
    {
     "name": "stdout",
     "output_type": "stream",
     "text": [
      "Selected features for Logistic Regression: Index(['al', 'sc', 'hrmo', 'sg_c', 'dm_yes'], dtype='object')\n",
      "Selected features for SVM Linear: Index(['al', 'hrmo', 'rc', 'sg_c', 'sg_d'], dtype='object')\n",
      "Selected features for Decision Tree: Index(['su', 'rc', 'sg_c', 'sg_d', 'dm_yes'], dtype='object')\n",
      "Selected features for Random Forest: Index(['al', 'rc', 'sg_b', 'pcc_present', 'dm_yes'], dtype='object')\n",
      "Model Accuracy: 96.00%\n",
      "Model Accuracy: 97.00%\n",
      "Model Accuracy: 97.00%\n",
      "Model Accuracy: 96.00%\n"
     ]
    },
    {
     "data": {
      "text/plain": [
       "0.96"
      ]
     },
     "execution_count": 1,
     "metadata": {},
     "output_type": "execute_result"
    }
   ],
   "source": [
    "import pandas as pd\n",
    "from sklearn.model_selection import train_test_split\n",
    "from sklearn.preprocessing import StandardScaler\n",
    "from sklearn.linear_model import LogisticRegression\n",
    "from sklearn.svm import SVC\n",
    "from sklearn.tree import DecisionTreeClassifier\n",
    "from sklearn.ensemble import RandomForestClassifier\n",
    "from sklearn.feature_selection import SequentialFeatureSelector\n",
    "from sklearn.metrics import accuracy_score\n",
    "\n",
    "# Load dataset\n",
    "dataset1 = pd.read_csv(\"prep.csv\", index_col=None)\n",
    "df2 = dataset1\n",
    "df2 = pd.get_dummies(df2, drop_first=True)\n",
    "\n",
    "# Define the independent and dependent variables\n",
    "indep_X = df2.drop('classification_yes', axis=1)\n",
    "dep_Y = df2['classification_yes']\n",
    "\n",
    "# Split data\n",
    "X_train, X_test, y_train, y_test = train_test_split(indep_X, dep_Y, test_size=0.25, random_state=0)\n",
    "\n",
    "# Standardize the data\n",
    "scaler = StandardScaler()\n",
    "X_train = scaler.fit_transform(X_train)\n",
    "X_test = scaler.transform(X_test)\n",
    "\n",
    "# Logistic Regression Sequential Feature Selector\n",
    "log_model = LogisticRegression(solver='lbfgs', random_state=0)\n",
    "sfs_log = SequentialFeatureSelector(log_model, n_features_to_select=5, direction='forward', scoring='accuracy', cv=5)\n",
    "sfs_log = sfs_log.fit(X_train, y_train)\n",
    "log_selected_features = sfs_log.get_support()\n",
    "print(f\"Selected features for Logistic Regression: {indep_X.columns[log_selected_features]}\")\n",
    "\n",
    "# SVM Linear Sequential Feature Selector\n",
    "svc_model = SVC(kernel='linear', random_state=0)\n",
    "sfs_svc = SequentialFeatureSelector(svc_model, n_features_to_select=5, direction='forward', scoring='accuracy', cv=5)\n",
    "sfs_svc = sfs_svc.fit(X_train, y_train)\n",
    "svc_selected_features = sfs_svc.get_support()\n",
    "print(f\"Selected features for SVM Linear: {indep_X.columns[svc_selected_features]}\")\n",
    "\n",
    "# Decision Tree Sequential Feature Selector\n",
    "dt_model = DecisionTreeClassifier(random_state=0)\n",
    "sfs_dt = SequentialFeatureSelector(dt_model, n_features_to_select=5, direction='forward', scoring='accuracy', cv=5)\n",
    "sfs_dt = sfs_dt.fit(X_train, y_train)\n",
    "dt_selected_features = sfs_dt.get_support()\n",
    "print(f\"Selected features for Decision Tree: {indep_X.columns[dt_selected_features]}\")\n",
    "\n",
    "# Random Forest Sequential Feature Selector\n",
    "rf_model = RandomForestClassifier(random_state=0)\n",
    "sfs_rf = SequentialFeatureSelector(rf_model, n_features_to_select=5, direction='forward', scoring='accuracy', cv=5)\n",
    "sfs_rf = sfs_rf.fit(X_train, y_train)\n",
    "rf_selected_features = sfs_rf.get_support()\n",
    "print(f\"Selected features for Random Forest: {indep_X.columns[rf_selected_features]}\")\n",
    "\n",
    "# Function to evaluate model with selected features\n",
    "def evaluate_model(model, X_train, y_train, X_test, y_test, selected_features):\n",
    "    X_train_selected = X_train[:, selected_features]\n",
    "    X_test_selected = X_test[:, selected_features]\n",
    "    \n",
    "    # Fit the model and make predictions\n",
    "    model.fit(X_train_selected, y_train)\n",
    "    y_pred = model.predict(X_test_selected)\n",
    "    \n",
    "    accuracy = accuracy_score(y_test, y_pred)\n",
    "    print(f\"Model Accuracy: {accuracy * 100:.2f}%\")\n",
    "    return accuracy\n",
    "\n",
    "# Evaluate Logistic Regression\n",
    "evaluate_model(log_model, X_train, y_train, X_test, y_test, log_selected_features)\n",
    "\n",
    "# Evaluate SVM Linear\n",
    "evaluate_model(svc_model, X_train, y_train, X_test, y_test, svc_selected_features)\n",
    "\n",
    "# Evaluate Decision Tree\n",
    "evaluate_model(dt_model, X_train, y_train, X_test, y_test, dt_selected_features)\n",
    "\n",
    "# Evaluate Random Forest\n",
    "evaluate_model(rf_model, X_train, y_train, X_test, y_test, rf_selected_features)\n"
   ]
  }
 ],
 "metadata": {
  "kernelspec": {
   "display_name": "Python 3 (ipykernel)",
   "language": "python",
   "name": "python3"
  },
  "language_info": {
   "codemirror_mode": {
    "name": "ipython",
    "version": 3
   },
   "file_extension": ".py",
   "mimetype": "text/x-python",
   "name": "python",
   "nbconvert_exporter": "python",
   "pygments_lexer": "ipython3",
   "version": "3.10.14"
  }
 },
 "nbformat": 4,
 "nbformat_minor": 5
}
